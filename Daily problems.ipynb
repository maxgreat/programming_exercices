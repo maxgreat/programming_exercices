{
 "cells": [
  {
   "cell_type": "markdown",
   "metadata": {},
   "source": [
    "### Sum of linked list\n",
    "\n",
    "Input: (2 -> 4 -> 3) + (5 -> 6 -> 4)\n",
    "\n",
    "Output: 7 -> 0 -> 8\n",
    "\n",
    "Explanation: 342 + 465 = 807."
   ]
  },
  {
   "cell_type": "code",
   "execution_count": 23,
   "metadata": {},
   "outputs": [
    {
     "name": "stdout",
     "output_type": "stream",
     "text": [
      "7\n",
      "0\n",
      "8\n"
     ]
    }
   ],
   "source": [
    "# Definition for singly-linked list.\n",
    "class ListNode(object):\n",
    "  def __init__(self, x):\n",
    "    self.val = x\n",
    "    self.next = None\n",
    "\n",
    "class Solution:\n",
    "  def addTwoNumbers(self, l1, l2, c = 0):\n",
    "    n1 = l1.val\n",
    "    i = 10\n",
    "    while l1.next:\n",
    "        if l1.next.val == 0:\n",
    "            n1 *= i\n",
    "        else:\n",
    "            n1 += l1.next.val*i\n",
    "        i *= 10\n",
    "        l1 = l1.next\n",
    "    \n",
    "    n2 = l2.val\n",
    "    i = 10\n",
    "    while l2.next:\n",
    "        if l2.next.val == 0:\n",
    "            n2 *= i\n",
    "        else:\n",
    "            n2 += l2.next.val*i\n",
    "        i *= 10\n",
    "        l2 = l2.next\n",
    "    n3 = n1 + n2\n",
    "    l3 = ListNode(n3%10)\n",
    "    n3 = n3//10\n",
    "    l = l3\n",
    "    while n3:\n",
    "        l.next = ListNode(n3%10)\n",
    "        n3 = n3//10\n",
    "        l = l.next\n",
    "    return l3\n",
    "    \n",
    "l1 = ListNode(2)\n",
    "l1.next = ListNode(4)\n",
    "l1.next.next = ListNode(3)\n",
    "\n",
    "l2 = ListNode(5)\n",
    "l2.next = ListNode(6)\n",
    "l2.next.next = ListNode(4)\n",
    "\n",
    "result = Solution().addTwoNumbers(l1, l2)\n",
    "while result:\n",
    "  print(result.val)\n",
    "  result = result.next\n",
    "# 7 0 8      \n",
    "\n"
   ]
  },
  {
   "cell_type": "markdown",
   "metadata": {},
   "source": [
    "### Given a string, find the length of the longest substring without repeating characters."
   ]
  },
  {
   "cell_type": "code",
   "execution_count": 25,
   "metadata": {},
   "outputs": [
    {
     "name": "stdout",
     "output_type": "stream",
     "text": [
      "True\n"
     ]
    }
   ],
   "source": [
    "def lengthOfLongestSubstring(s):\n",
    "    longuest = 0\n",
    "    current = 0\n",
    "    i = 0\n",
    "    tab = [-1]*128\n",
    "    while i < len(s):\n",
    "        if tab[ord(s[i])] == -1:\n",
    "            tab[ord(s[i])] = i\n",
    "            current += 1\n",
    "            if current > longuest:\n",
    "                longuest = current\n",
    "        else:\n",
    "            i = tab[ord(s[i-1])]\n",
    "            tab = [-1]*128\n",
    "            current = 0\n",
    "        i += 1\n",
    "            \n",
    "    return longuest\n",
    "\n",
    "print(lengthOfLongestSubstring('abrkaabcdefghijjxxx')==10)"
   ]
  },
  {
   "cell_type": "markdown",
   "metadata": {},
   "source": [
    "### Given an integer k and a binary search tree, find the floor (less than or equal to) of k, and the ceiling (larger than or equal to) of k. If either does not exist, then print them as None."
   ]
  },
  {
   "cell_type": "code",
   "execution_count": 1,
   "metadata": {},
   "outputs": [
    {
     "ename": "IndentationError",
     "evalue": "expected an indented block (<ipython-input-1-c8c805080939>, line 10)",
     "output_type": "error",
     "traceback": [
      "\u001b[1;36m  File \u001b[1;32m\"<ipython-input-1-c8c805080939>\"\u001b[1;36m, line \u001b[1;32m10\u001b[0m\n\u001b[1;33m    root = Node(8)\u001b[0m\n\u001b[1;37m       ^\u001b[0m\n\u001b[1;31mIndentationError\u001b[0m\u001b[1;31m:\u001b[0m expected an indented block\n"
     ]
    }
   ],
   "source": [
    "class Node:\n",
    "    def __init__(self, value):\n",
    "        self.left = None\n",
    "        self.right = None\n",
    "        self.value = value\n",
    "\n",
    "\n",
    "def findCeilingFloor(root_node, k, floor=None, ceil=None):\n",
    "    n = root_node\n",
    "    if n.value > k:\n",
    "        if ceil is None or ceil > n.value:\n",
    "            findCeilingFloor(n, k, ceil=n.value)\n",
    "        else:\n",
    "            findCeilingFloor(n, k, ceil=ceil)\n",
    "        \n",
    "    else:\n",
    "        \n",
    "\n",
    "root = Node(8)                                 8\n",
    "root.left = Node(4)                         4    12\n",
    "root.right = Node(12)                          \n",
    "  \n",
    "root.left.left = Node(2)                  2   6  10  14\n",
    "root.left.right = Node(6) \n",
    "  \n",
    "root.right.left = Node(10) \n",
    "root.right.right = Node(14) \n",
    "\n",
    "print(findCeilingFloor(root, 5) == (4,6))"
   ]
  },
  {
   "cell_type": "markdown",
   "metadata": {},
   "source": [
    "### Given a list of numbers, find if there exists a pythagorean triplet in that list. A pythagorean triplet is 3 variables a, b, c where a2 + b2 = c2\n",
    "\n",
    "Input: [3, 5, 12, 5, 13]\n",
    "Output: True"
   ]
  },
  {
   "cell_type": "code",
   "execution_count": null,
   "metadata": {},
   "outputs": [],
   "source": [
    "def findPythagoreanTriplets(nums):\n",
    "    s = sorted(nums)\n",
    "    i = 2\n",
    "    while i < len(s):\n",
    "        \n",
    "\n",
    "print(findPythagoreanTriplets([3, 12, 5, 13] == True)"
   ]
  }
 ],
 "metadata": {
  "kernelspec": {
   "display_name": "Python 3",
   "language": "python",
   "name": "python3"
  },
  "language_info": {
   "codemirror_mode": {
    "name": "ipython",
    "version": 3
   },
   "file_extension": ".py",
   "mimetype": "text/x-python",
   "name": "python",
   "nbconvert_exporter": "python",
   "pygments_lexer": "ipython3",
   "version": "3.7.6"
  }
 },
 "nbformat": 4,
 "nbformat_minor": 4
}