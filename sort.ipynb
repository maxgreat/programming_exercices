{
 "cells": [
  {
   "cell_type": "code",
   "execution_count": 29,
   "metadata": {},
   "outputs": [],
   "source": [
    "import time"
   ]
  },
  {
   "cell_type": "code",
   "execution_count": 46,
   "metadata": {},
   "outputs": [],
   "source": [
    "def test_function(func):\n",
    "    l = [random.randint(0,50000) for i in range(10000)]\n",
    "    t0 = time.time()\n",
    "    func(l)\n",
    "    print(\"Elapsed time = \", time.time() - t0, \"sec\")\n",
    "    print(\"Result :\", sorted(l) == l)"
   ]
  },
  {
   "cell_type": "code",
   "execution_count": 78,
   "metadata": {},
   "outputs": [],
   "source": [
    "def test_function_outplace(func):\n",
    "    l = [random.randint(0,500000) for i in range(10000)]\n",
    "    t0 = time.time()\n",
    "    l = func(l)\n",
    "    print(\"Elapsed time = \", time.time() - t0, \"sec\")\n",
    "    print(\"Result :\", sorted(l) == l)"
   ]
  },
  {
   "cell_type": "markdown",
   "metadata": {},
   "source": [
    "### Insertion sort"
   ]
  },
  {
   "cell_type": "code",
   "execution_count": 50,
   "metadata": {},
   "outputs": [],
   "source": [
    "def insertion_sort(l):\n",
    "    i = 1\n",
    "    while i < len(l):\n",
    "        if l[i] < l[i-1]:\n",
    "            l[i], l[i-1] = l[i-1], l[i]\n",
    "            j = i-2\n",
    "            while j >= 0 and l[j] > l[j+1]:\n",
    "                l[j], l[j+1] = l[j+1], l[j]\n",
    "                j -= 1\n",
    "        i += 1"
   ]
  },
  {
   "cell_type": "code",
   "execution_count": 51,
   "metadata": {},
   "outputs": [
    {
     "name": "stdout",
     "output_type": "stream",
     "text": [
      "Elapsed time =  6.227874279022217 sec\n",
      "Result : True\n"
     ]
    }
   ],
   "source": [
    "test_function(insertion_sort)"
   ]
  },
  {
   "cell_type": "markdown",
   "metadata": {},
   "source": [
    "### Selection Sort"
   ]
  },
  {
   "cell_type": "code",
   "execution_count": 57,
   "metadata": {},
   "outputs": [],
   "source": [
    "def selection_sort(l):\n",
    "    i = 0\n",
    "    while i < len(l)-1:\n",
    "        min_pos = i\n",
    "        for j in range(i+1, len(l)):\n",
    "            if l[min_pos] > l[j] :\n",
    "                min_pos = j\n",
    "        l[i], l[min_pos] = l[min_pos], l[i]\n",
    "        i += 1"
   ]
  },
  {
   "cell_type": "code",
   "execution_count": 60,
   "metadata": {},
   "outputs": [
    {
     "name": "stdout",
     "output_type": "stream",
     "text": [
      "Elapsed time =  2.2649495601654053 sec\n",
      "Result : True\n"
     ]
    }
   ],
   "source": [
    "test_function(selection_sort)"
   ]
  },
  {
   "cell_type": "markdown",
   "metadata": {},
   "source": [
    "### Merge sort"
   ]
  },
  {
   "cell_type": "code",
   "execution_count": 79,
   "metadata": {},
   "outputs": [],
   "source": [
    "def merge(l1, l2):\n",
    "    i,j = 0,0\n",
    "    l = []\n",
    "    while i < len(l1) and j < len(l2):\n",
    "        if l1[i] < l2[j]:\n",
    "            l.append(l1[i])\n",
    "            i += 1\n",
    "        else:\n",
    "            l.append(l2[j])\n",
    "            j += 1\n",
    "    while j < len(l2):\n",
    "        l.append(l2[j])\n",
    "        j += 1\n",
    "    while i < len(l1):\n",
    "        l.append(l1[i])\n",
    "        i += 1\n",
    "    return l\n",
    "\n",
    "def merge_sort(l):\n",
    "    if len(l) == 1:\n",
    "        return l\n",
    "    return  merge(merge_sort(l[:len(l)//2]), merge_sort(l[len(l)//2:]))\n",
    "    "
   ]
  },
  {
   "cell_type": "code",
   "execution_count": 80,
   "metadata": {},
   "outputs": [
    {
     "name": "stdout",
     "output_type": "stream",
     "text": [
      "Elapsed time =  0.04053544998168945 sec\n",
      "Result : True\n"
     ]
    }
   ],
   "source": [
    "test_function_outplace(merge_sort)"
   ]
  },
  {
   "cell_type": "markdown",
   "metadata": {},
   "source": [
    "### Heap Sort"
   ]
  },
  {
   "cell_type": "code",
   "execution_count": null,
   "metadata": {},
   "outputs": [],
   "source": []
  },
  {
   "cell_type": "code",
   "execution_count": null,
   "metadata": {},
   "outputs": [],
   "source": []
  },
  {
   "cell_type": "markdown",
   "metadata": {},
   "source": [
    "### Quicksort"
   ]
  },
  {
   "cell_type": "code",
   "execution_count": 131,
   "metadata": {},
   "outputs": [],
   "source": [
    "def quicksort(l):\n",
    "    if len(l) > 1:\n",
    "        p = partition(l)\n",
    "        quicksort(l[p:])\n",
    "        quicksort(l[:p])\n",
    "        \n",
    "    \n",
    "def partition(l):\n",
    "    j = len(l)-1\n",
    "    pivot = l[len(l) // 2]\n",
    "    for i in range(len(l)):\n",
    "        if l[i] > pivot:\n",
    "            l[i], l[j] = l[j], l[i]\n",
    "            j -= 1\n",
    "    return j"
   ]
  },
  {
   "cell_type": "code",
   "execution_count": 132,
   "metadata": {},
   "outputs": [
    {
     "data": {
      "text/plain": [
       "[4, 2, 3, 1, 5, 6]"
      ]
     },
     "execution_count": 132,
     "metadata": {},
     "output_type": "execute_result"
    }
   ],
   "source": [
    "l = [4,2,3,1,5,6]\n",
    "quicksort(l)\n",
    "l"
   ]
  },
  {
   "cell_type": "code",
   "execution_count": 124,
   "metadata": {
    "scrolled": false
   },
   "outputs": [
    {
     "name": "stdout",
     "output_type": "stream",
     "text": [
      "Elapsed time =  0.04256916046142578 sec\n",
      "Result : False\n"
     ]
    }
   ],
   "source": [
    "test_function(quicksort)"
   ]
  },
  {
   "cell_type": "code",
   "execution_count": null,
   "metadata": {},
   "outputs": [],
   "source": []
  }
 ],
 "metadata": {
  "kernelspec": {
   "display_name": "Python 3",
   "language": "python",
   "name": "python3"
  },
  "language_info": {
   "codemirror_mode": {
    "name": "ipython",
    "version": 3
   },
   "file_extension": ".py",
   "mimetype": "text/x-python",
   "name": "python",
   "nbconvert_exporter": "python",
   "pygments_lexer": "ipython3",
   "version": "3.7.6"
  }
 },
 "nbformat": 4,
 "nbformat_minor": 4
}
