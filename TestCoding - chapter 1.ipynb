{
 "cells": [
  {
   "cell_type": "markdown",
   "metadata": {},
   "source": [
    "### Estimate pi from random numbers"
   ]
  },
  {
   "cell_type": "code",
   "execution_count": 18,
   "metadata": {},
   "outputs": [
    {
     "name": "stdout",
     "output_type": "stream",
     "text": [
      "pi =  4.0\n",
      "pi =  3.16\n",
      "pi =  3.016\n",
      "pi =  3.124\n",
      "pi =  3.14992\n"
     ]
    }
   ],
   "source": [
    "import random\n",
    "def estimate_pi(n=100):\n",
    "    inside = 0\n",
    "    outside = 0\n",
    "    for i in range(n):\n",
    "        #get à random point between 0 and 1\n",
    "        x = random.random()\n",
    "        y = random.random()\n",
    "        \n",
    "        # verify is the point is inside the circle\n",
    "        # circle equation x²+y² = 1 (for a circle of radius 1 centered in 0,0)\n",
    "        # if x*x + y*y <= 1, the point is inside the circle \n",
    "        if x*x + y*y <= 1:\n",
    "            inside += 1\n",
    "    # we need to multiple by 0, as we compute for a quarter of a circle\n",
    "    return 4*inside/n\n",
    "\n",
    "print(\"pi = \", estimate_pi(10))\n",
    "print(\"pi = \", estimate_pi(100))\n",
    "print(\"pi = \", estimate_pi(1000))\n",
    "print(\"pi = \", estimate_pi(10000))\n",
    "print(\"pi = \", estimate_pi(100000))"
   ]
  },
  {
   "cell_type": "markdown",
   "metadata": {},
   "source": [
    "### Chap 1 Q1\n",
    "verify if a string has all unique characters."
   ]
  },
  {
   "cell_type": "code",
   "execution_count": 22,
   "metadata": {},
   "outputs": [],
   "source": [
    "import random\n",
    "import string"
   ]
  },
  {
   "cell_type": "code",
   "execution_count": 19,
   "metadata": {},
   "outputs": [
    {
     "name": "stdout",
     "output_type": "stream",
     "text": [
      "True\n",
      "True\n"
     ]
    }
   ],
   "source": [
    "s1 = \"agtcdef\"\n",
    "s2 = \"agttgth\"\n",
    "\n",
    "def test_unique(s):\n",
    "    # fastest way use a hash tab (dict in python) O(n). Space use O(1)\n",
    "    hash_tab = {}\n",
    "    for i in s:\n",
    "        if i not in hash_tab:\n",
    "            hash_tab[i] = 1\n",
    "        else:\n",
    "            return False\n",
    "    return True\n",
    "\n",
    "def test_unique_bit(s): # save some space by using a int to store the values.\n",
    "    storage_bit = 0\n",
    "    for i in s:\n",
    "        value = 1 << (ord(i) - ord('a'))\n",
    "        if storage_bit & value > 0:\n",
    "            return False\n",
    "        storage_bit |= value\n",
    "    return True\n",
    "        \n",
    "\n",
    "def test_unique2(s):\n",
    "    # if it's fordidden to use another data structure\n",
    "    # use less memory and no hash_tab, but slower O(nlogn)\n",
    "    s2 = sorted(s)\n",
    "    letter = s2[0]\n",
    "    for i in range(1, len(s2)):\n",
    "        if letter == s2[i]:\n",
    "            return False\n",
    "        letter = s2[i]\n",
    "    return True\n",
    "\n",
    "print(test_unique(s1) == test_unique_bit(s1) == test_unique2(s1))\n",
    "print(test_unique(s2) == test_unique_bit(s2) == test_unique2(s2))\n"
   ]
  },
  {
   "cell_type": "markdown",
   "metadata": {},
   "source": [
    "#### Chap 1 Q2\n",
    "check if a string is a permutation of another"
   ]
  },
  {
   "cell_type": "code",
   "execution_count": 21,
   "metadata": {},
   "outputs": [],
   "source": [
    "s1 = \"abcdef\"\n",
    "s2 = \"abcdfe\"\n",
    "s3 = \"abcdeg\""
   ]
  },
  {
   "cell_type": "code",
   "execution_count": 22,
   "metadata": {},
   "outputs": [
    {
     "name": "stdout",
     "output_type": "stream",
     "text": [
      "True\n",
      "False\n"
     ]
    }
   ],
   "source": [
    "def is_permutation(s1,s2): #O(nm log n log m)\n",
    "    #sort the two strings and compare character by character\n",
    "    if len(s1) != len(s2):\n",
    "        return False\n",
    "    return sorted(s1) == sorted(s2)\n",
    "\n",
    "print(is_permutation(s1,s2))\n",
    "print(is_permutation(s1,s3))\n",
    "\n",
    "           "
   ]
  },
  {
   "cell_type": "code",
   "execution_count": 60,
   "metadata": {},
   "outputs": [
    {
     "name": "stdout",
     "output_type": "stream",
     "text": [
      "736 ns ± 3.59 ns per loop (mean ± std. dev. of 7 runs, 1000000 loops each)\n"
     ]
    }
   ],
   "source": [
    "%timeit is_permutation(s1,s2)"
   ]
  },
  {
   "cell_type": "code",
   "execution_count": 23,
   "metadata": {},
   "outputs": [
    {
     "name": "stdout",
     "output_type": "stream",
     "text": [
      "True\n",
      "False\n"
     ]
    }
   ],
   "source": [
    "def is_permutation(s1,s2): # O(n+m)\n",
    "    dict_s1 = {}\n",
    "    dict_s2 = {}\n",
    "    \n",
    "    for l in s1:\n",
    "        if l in dict_s1:\n",
    "            dict_s1[l] += 1\n",
    "        else:\n",
    "            dict_s1[l] = 1\n",
    "    \n",
    "    for l in s2:\n",
    "        if l in dict_s2:\n",
    "            dict_s2[l] += 1\n",
    "        else:\n",
    "            dict_s2[l] = 1\n",
    "    return dict_s1 == dict_s2\n",
    "\n",
    "print(is_permutation(s1,s2))\n",
    "print(is_permutation(s1,s3)) "
   ]
  },
  {
   "cell_type": "code",
   "execution_count": 24,
   "metadata": {},
   "outputs": [
    {
     "name": "stdout",
     "output_type": "stream",
     "text": [
      "1.05 µs ± 1.85 ns per loop (mean ± std. dev. of 7 runs, 1000000 loops each)\n"
     ]
    }
   ],
   "source": [
    "%timeit is_permutation(s1,s2)"
   ]
  },
  {
   "cell_type": "markdown",
   "metadata": {},
   "source": [
    "### Chap 1 Q4\n",
    "Palimdrome -> can you make a palyndrome from a sentence"
   ]
  },
  {
   "cell_type": "code",
   "execution_count": 88,
   "metadata": {},
   "outputs": [
    {
     "name": "stdout",
     "output_type": "stream",
     "text": [
      "True\n",
      "True\n",
      "False\n"
     ]
    }
   ],
   "source": [
    "def is_palymdrome(s):\n",
    "    letter_count = [0]*128\n",
    "    for l in s:\n",
    "        if l != ' ':\n",
    "            letter_count[ord(l)] += 1\n",
    "    nb_odd = 0\n",
    "    for i in range(128):\n",
    "        if letter_count[i]%2 == 1:\n",
    "            nb_odd += 1\n",
    "        if nb_odd > 1:\n",
    "            return False\n",
    "    return True\n",
    "\n",
    "print(is_palymdrome(\"tact coa\"))\n",
    "print(is_palymdrome(\"ama\"))\n",
    "print(is_palymdrome(\"ammabcaa\"))"
   ]
  },
  {
   "cell_type": "markdown",
   "metadata": {},
   "source": [
    "### Chap 1 Q5\n",
    "two string, one edit away?"
   ]
  },
  {
   "cell_type": "code",
   "execution_count": 101,
   "metadata": {},
   "outputs": [
    {
     "name": "stdout",
     "output_type": "stream",
     "text": [
      "True\n",
      "True\n",
      "True\n",
      "False\n"
     ]
    }
   ],
   "source": [
    "def one_away(s1, s2):\n",
    "    i = 0\n",
    "    j = 0\n",
    "    nb_edit = 0\n",
    "    while i < len(s1) and j < len(s2):\n",
    "        if s1[i] == s2[j]:\n",
    "            i += 1\n",
    "            j += 1\n",
    "        else:\n",
    "            if nb_edit > 0:\n",
    "                return False\n",
    "            else:\n",
    "                nb_edit += 1\n",
    "                if len(s1) < len(s2):\n",
    "                    j += 1\n",
    "                elif len(s1) > len(s2):\n",
    "                    i += 1\n",
    "                else:\n",
    "                    j += 1\n",
    "                    i += 1\n",
    "    return True\n",
    "\n",
    "print(one_away(\"pale\", \"ple\"))\n",
    "print(one_away(\"pales\", \"pale\"))\n",
    "print(one_away(\"pale\", \"bale\"))\n",
    "print(one_away(\"pale\", \"bake\"))"
   ]
  },
  {
   "cell_type": "markdown",
   "metadata": {},
   "source": [
    "### Chap 1 Q6\n",
    "String compression\n",
    "aabbbcc -> a2b3c2"
   ]
  },
  {
   "cell_type": "code",
   "execution_count": 65,
   "metadata": {},
   "outputs": [],
   "source": [
    "import string\n",
    "s = ''.join(random.choice(string.ascii_lowercase) for i in range(5000))"
   ]
  },
  {
   "cell_type": "code",
   "execution_count": 66,
   "metadata": {},
   "outputs": [],
   "source": [
    "s1 = \"aabbccc\"\n",
    "s2 = \"aabbbbbccc\""
   ]
  },
  {
   "cell_type": "code",
   "execution_count": 67,
   "metadata": {},
   "outputs": [],
   "source": [
    "def compression(s):\n",
    "    s2 = \"\"\n",
    "    i = 1\n",
    "    letter, count = s[0], 1\n",
    "    while i < len(s):\n",
    "        if s[i] == letter:\n",
    "            count += 1\n",
    "        else:\n",
    "            s2 += letter + str(count)\n",
    "            count = 1\n",
    "            letter = s[i]\n",
    "        i += 1\n",
    "    return s2 + letter + str(count)"
   ]
  },
  {
   "cell_type": "code",
   "execution_count": 68,
   "metadata": {},
   "outputs": [
    {
     "name": "stdout",
     "output_type": "stream",
     "text": [
      "2.39 ms ± 121 µs per loop (mean ± std. dev. of 7 runs, 100 loops each)\n"
     ]
    }
   ],
   "source": [
    "%timeit compression(s)"
   ]
  },
  {
   "cell_type": "code",
   "execution_count": 69,
   "metadata": {},
   "outputs": [
    {
     "name": "stdout",
     "output_type": "stream",
     "text": [
      "aabbccc -> a2b2c3\n",
      "aabbbbbccc -> a2b5c3\n"
     ]
    }
   ],
   "source": [
    "print(f\"{s1} -> {compression(s1)}\")\n",
    "print(f\"{s2} -> {compression(s2)}\")"
   ]
  },
  {
   "cell_type": "code",
   "execution_count": 91,
   "metadata": {},
   "outputs": [],
   "source": [
    "def compressiontab(s):\n",
    "    s2 = ['']*len(s)\n",
    "    j = 0\n",
    "    i = 1\n",
    "    letter, count = s[0], 1\n",
    "    while i < len(s):\n",
    "        if s[i] == letter:\n",
    "            count += 1\n",
    "        else:\n",
    "            s2[j] = letter + str(count)\n",
    "            j += 1\n",
    "            count = 1\n",
    "            letter = s[i]\n",
    "        i += 1\n",
    "    s2[j] = letter + str(count)\n",
    "    return \"\".join(s2)"
   ]
  },
  {
   "cell_type": "code",
   "execution_count": 92,
   "metadata": {},
   "outputs": [
    {
     "name": "stdout",
     "output_type": "stream",
     "text": [
      "aabbccc -> a2b2c3\n",
      "aabbbbbccc -> a2b5c3\n"
     ]
    }
   ],
   "source": [
    "print(f\"{s1} -> {compressiontab(s1)}\")\n",
    "print(f\"{s2} -> {compressiontab(s2)}\")"
   ]
  },
  {
   "cell_type": "code",
   "execution_count": 93,
   "metadata": {},
   "outputs": [
    {
     "name": "stdout",
     "output_type": "stream",
     "text": [
      "2.03 ms ± 3.58 µs per loop (mean ± std. dev. of 7 runs, 100 loops each)\n"
     ]
    }
   ],
   "source": [
    "%timeit compressiontab(s)"
   ]
  },
  {
   "cell_type": "markdown",
   "metadata": {},
   "source": [
    "### Chap 1 Q7\n",
    "Matrix rotation : NxN matrix of 4 bytes, rotate 90 degree in place"
   ]
  },
  {
   "cell_type": "code",
   "execution_count": null,
   "metadata": {},
   "outputs": [],
   "source": [
    "def rotate(matrix):\n",
    "      "
   ]
  },
  {
   "cell_type": "markdown",
   "metadata": {},
   "source": [
    "### Chap 1 Q8\n",
    "if an element is at 0, set column and line to 0"
   ]
  },
  {
   "cell_type": "code",
   "execution_count": 94,
   "metadata": {},
   "outputs": [],
   "source": [
    "def zero_out(matrix):\n",
    "    cols = []\n",
    "    lines = []\n",
    "    for i in range(len(matrix)):\n",
    "        for j in range(len(matrix[i])):\n",
    "            if matrix[i][j] == 0:\n",
    "                cols.append(j)\n",
    "                lines.append(i)\n",
    "    for l in lines:\n",
    "        for j in range(len(matrix[l])):\n",
    "            matrix[l][j] = 0\n",
    "    for c in cols:\n",
    "        for i in range(len(matrix)):\n",
    "            matrix[i][c] = 0"
   ]
  },
  {
   "cell_type": "code",
   "execution_count": 95,
   "metadata": {},
   "outputs": [
    {
     "name": "stdout",
     "output_type": "stream",
     "text": [
      "[[1, 0, 3], [0, 0, 0], [7, 0, 9]]\n"
     ]
    }
   ],
   "source": [
    "mat = [[1,2,3],[4,0,6],[7,8,9]]\n",
    "zero_out(mat)\n",
    "print(mat)"
   ]
  },
  {
   "cell_type": "markdown",
   "metadata": {},
   "source": [
    "### Chap 1 Q9\n",
    "String rotation\n"
   ]
  },
  {
   "cell_type": "code",
   "execution_count": 96,
   "metadata": {},
   "outputs": [],
   "source": [
    "def is_rotation(s1,s2):\n",
    "    return s2 in s1+s1"
   ]
  },
  {
   "cell_type": "code",
   "execution_count": 99,
   "metadata": {},
   "outputs": [
    {
     "name": "stdout",
     "output_type": "stream",
     "text": [
      "True\n",
      "True\n"
     ]
    }
   ],
   "source": [
    "print(is_rotation('watterbottle', 'erbottlewat'))\n",
    "print(is_rotation('ewatterbottl', 'erbottlewat'))"
   ]
  },
  {
   "cell_type": "code",
   "execution_count": null,
   "metadata": {},
   "outputs": [],
   "source": []
  },
  {
   "cell_type": "code",
   "execution_count": null,
   "metadata": {},
   "outputs": [],
   "source": []
  },
  {
   "cell_type": "code",
   "execution_count": null,
   "metadata": {},
   "outputs": [],
   "source": []
  },
  {
   "cell_type": "code",
   "execution_count": null,
   "metadata": {},
   "outputs": [],
   "source": []
  },
  {
   "cell_type": "code",
   "execution_count": null,
   "metadata": {},
   "outputs": [],
   "source": []
  },
  {
   "cell_type": "code",
   "execution_count": null,
   "metadata": {},
   "outputs": [],
   "source": []
  },
  {
   "cell_type": "code",
   "execution_count": null,
   "metadata": {},
   "outputs": [],
   "source": []
  }
 ],
 "metadata": {
  "kernelspec": {
   "display_name": "Python 3",
   "language": "python",
   "name": "python3"
  },
  "language_info": {
   "codemirror_mode": {
    "name": "ipython",
    "version": 3
   },
   "file_extension": ".py",
   "mimetype": "text/x-python",
   "name": "python",
   "nbconvert_exporter": "python",
   "pygments_lexer": "ipython3",
   "version": "3.7.6"
  }
 },
 "nbformat": 4,
 "nbformat_minor": 4
}
