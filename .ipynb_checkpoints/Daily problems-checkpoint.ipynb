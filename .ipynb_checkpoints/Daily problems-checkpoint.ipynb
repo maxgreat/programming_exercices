{
 "cells": [
  {
   "cell_type": "markdown",
   "metadata": {},
   "source": [
    "### Sum of linked list\n",
    "\n",
    "Input: (2 -> 4 -> 3) + (5 -> 6 -> 4)\n",
    "\n",
    "Output: 7 -> 0 -> 8\n",
    "\n",
    "Explanation: 342 + 465 = 807."
   ]
  },
  {
   "cell_type": "code",
   "execution_count": 23,
   "metadata": {},
   "outputs": [
    {
     "name": "stdout",
     "output_type": "stream",
     "text": [
      "7\n",
      "0\n",
      "8\n"
     ]
    }
   ],
   "source": [
    "# Definition for singly-linked list.\n",
    "class ListNode(object):\n",
    "  def __init__(self, x):\n",
    "    self.val = x\n",
    "    self.next = None\n",
    "\n",
    "class Solution:\n",
    "  def addTwoNumbers(self, l1, l2, c = 0):\n",
    "    n1 = l1.val\n",
    "    i = 10\n",
    "    while l1.next:\n",
    "        if l1.next.val == 0:\n",
    "            n1 *= i\n",
    "        else:\n",
    "            n1 += l1.next.val*i\n",
    "        i *= 10\n",
    "        l1 = l1.next\n",
    "    \n",
    "    n2 = l2.val\n",
    "    i = 10\n",
    "    while l2.next:\n",
    "        if l2.next.val == 0:\n",
    "            n2 *= i\n",
    "        else:\n",
    "            n2 += l2.next.val*i\n",
    "        i *= 10\n",
    "        l2 = l2.next\n",
    "    n3 = n1 + n2\n",
    "    l3 = ListNode(n3%10)\n",
    "    n3 = n3//10\n",
    "    l = l3\n",
    "    while n3:\n",
    "        l.next = ListNode(n3%10)\n",
    "        n3 = n3//10\n",
    "        l = l.next\n",
    "    return l3\n",
    "    \n",
    "l1 = ListNode(2)\n",
    "l1.next = ListNode(4)\n",
    "l1.next.next = ListNode(3)\n",
    "\n",
    "l2 = ListNode(5)\n",
    "l2.next = ListNode(6)\n",
    "l2.next.next = ListNode(4)\n",
    "\n",
    "result = Solution().addTwoNumbers(l1, l2)\n",
    "while result:\n",
    "  print(result.val)\n",
    "  result = result.next\n",
    "# 7 0 8      \n",
    "\n"
   ]
  },
  {
   "cell_type": "markdown",
   "metadata": {},
   "source": [
    "### Given a string, find the length of the longest substring without repeating characters."
   ]
  },
  {
   "cell_type": "code",
   "execution_count": 25,
   "metadata": {},
   "outputs": [
    {
     "name": "stdout",
     "output_type": "stream",
     "text": [
      "True\n"
     ]
    }
   ],
   "source": [
    "def lengthOfLongestSubstring(s):\n",
    "    longuest = 0\n",
    "    current = 0\n",
    "    i = 0\n",
    "    tab = [-1]*128\n",
    "    while i < len(s):\n",
    "        if tab[ord(s[i])] == -1:\n",
    "            tab[ord(s[i])] = i\n",
    "            current += 1\n",
    "            if current > longuest:\n",
    "                longuest = current\n",
    "        else:\n",
    "            i = tab[ord(s[i-1])]\n",
    "            tab = [-1]*128\n",
    "            current = 0\n",
    "        i += 1\n",
    "            \n",
    "    return longuest\n",
    "\n",
    "print(lengthOfLongestSubstring('abrkaabcdefghijjxxx')==10)"
   ]
  },
  {
   "cell_type": "markdown",
   "metadata": {},
   "source": [
    "### Given an integer k and a binary search tree, find the floor (less than or equal to) of k, and the ceiling (larger than or equal to) of k. If either does not exist, then print them as None."
   ]
  },
  {
   "cell_type": "code",
   "execution_count": 1,
   "metadata": {},
   "outputs": [
    {
     "ename": "IndentationError",
     "evalue": "expected an indented block (<ipython-input-1-c8c805080939>, line 10)",
     "output_type": "error",
     "traceback": [
      "\u001b[1;36m  File \u001b[1;32m\"<ipython-input-1-c8c805080939>\"\u001b[1;36m, line \u001b[1;32m10\u001b[0m\n\u001b[1;33m    root = Node(8)\u001b[0m\n\u001b[1;37m       ^\u001b[0m\n\u001b[1;31mIndentationError\u001b[0m\u001b[1;31m:\u001b[0m expected an indented block\n"
     ]
    }
   ],
   "source": [
    "class Node:\n",
    "    def __init__(self, value):\n",
    "        self.left = None\n",
    "        self.right = None\n",
    "        self.value = value\n",
    "\n",
    "\n",
    "def findCeilingFloor(root_node, k, floor=None, ceil=None):\n",
    "    n = root_node\n",
    "    if n.value > k:\n",
    "        if ceil is None or ceil > n.value:\n",
    "            findCeilingFloor(n, k, ceil=n.value)\n",
    "        else:\n",
    "            findCeilingFloor(n, k, ceil=ceil)\n",
    "        \n",
    "    else:\n",
    "        \n",
    "\n",
    "root = Node(8)                                 8\n",
    "root.left = Node(4)                         4    12\n",
    "root.right = Node(12)                          \n",
    "  \n",
    "root.left.left = Node(2)                  2   6  10  14\n",
    "root.left.right = Node(6) \n",
    "  \n",
    "root.right.left = Node(10) \n",
    "root.right.right = Node(14) \n",
    "\n",
    "print(findCeilingFloor(root, 5) == (4,6))"
   ]
  },
  {
   "cell_type": "markdown",
   "metadata": {},
   "source": [
    "### Given a list of numbers, find if there exists a pythagorean triplet in that list. A pythagorean triplet is 3 variables a, b, c where a2 + b2 = c2\n",
    "\n",
    "Input: [3, 5, 12, 5, 13]\n",
    "Output: True"
   ]
  },
  {
   "cell_type": "code",
   "execution_count": 16,
   "metadata": {},
   "outputs": [
    {
     "name": "stdout",
     "output_type": "stream",
     "text": [
      "5^2 + 12^2 == 13^2 <==> 25 + 144 == 169\n",
      "True\n",
      "True\n",
      "3^2 + 4^2 == 5^2 <==> 9 + 16 == 25\n",
      "True\n"
     ]
    }
   ],
   "source": [
    "def findPythagoreanTriplets(nums):\n",
    "    s = sorted(nums)\n",
    "    a = 0\n",
    "    b = 1\n",
    "    while a != len(s) - 2:\n",
    "        for c in range(b+1, len(s)):\n",
    "            if s[a]*s[a] + s[b]*s[b] == s[c]*s[c]:\n",
    "                print(f\"{s[a]}^2 + {s[b]}^2 == {s[c]}^2\", end=\" <==> \")\n",
    "                print(f\"{s[a]*s[a]} + {s[b]*s[b]} == {s[c]*s[c]}\")\n",
    "                return True\n",
    "        a += 1\n",
    "        b += 1\n",
    "    return False\n",
    "        \n",
    "\n",
    "print(findPythagoreanTriplets([3, 12, 5, 13]) == True)\n",
    "print(findPythagoreanTriplets([4, 12, 5, 14]) == False)\n",
    "print(findPythagoreanTriplets([4,3, 5, 14]) == True)"
   ]
  },
  {
   "cell_type": "markdown",
   "metadata": {},
   "source": [
    "### Invert Binary Tree"
   ]
  },
  {
   "cell_type": "code",
   "execution_count": 6,
   "metadata": {},
   "outputs": [
    {
     "name": "stdout",
     "output_type": "stream",
     "text": [
      "abdecf\n",
      "\n",
      "acfbed"
     ]
    }
   ],
   "source": [
    "class Node:\n",
    "  def __init__(self, value):\n",
    "    self.left = None\n",
    "    self.right = None\n",
    "    self.value = value\n",
    "  def preorder(self):\n",
    "    print(self.value, end=\"\")\n",
    "    if self.left: \n",
    "        self.left.preorder()\n",
    "    if self.right: \n",
    "        self.right.preorder()\n",
    "\n",
    "def invert(node):\n",
    "    if node:\n",
    "        node.left, node.right = node.right, node.left\n",
    "        invert(node.left)\n",
    "        invert(node.right)\n",
    "    \n",
    "root = Node('a') \n",
    "root.left = Node('b') \n",
    "root.right = Node('c') \n",
    "root.left.left = Node('d') \n",
    "root.left.right = Node('e') \n",
    "root.right.left = Node('f') \n",
    "\n",
    "root.preorder()\n",
    "# a b d e c f \n",
    "print(\"\\n\")\n",
    "invert(root)\n",
    "root.preorder()\n",
    "# a c f b e d"
   ]
  },
  {
   "cell_type": "markdown",
   "metadata": {},
   "source": [
    "### Create a calculator"
   ]
  },
  {
   "cell_type": "code",
   "execution_count": 35,
   "metadata": {},
   "outputs": [
    {
     "name": "stdout",
     "output_type": "stream",
     "text": [
      "True\n",
      "True\n",
      "True\n"
     ]
    }
   ],
   "source": [
    "def eval_expr(expression):\n",
    "    if expression == '':\n",
    "        return 0\n",
    "    if '9' >= expression[0] >= '0':\n",
    "        return int(expression[0]) + eval_expr(expression[1:])\n",
    "    if expression[0] == ' ' or expression[0] == '+':\n",
    "        return eval_expr(expression[1:])\n",
    "    if expression[0] == '-':\n",
    "        i = 1\n",
    "        nb = 0\n",
    "        while i < len(expression):\n",
    "            if expression[i] == '(':\n",
    "                nb += 1\n",
    "            elif expression[i] == '+' and nb==0:\n",
    "                break\n",
    "            elif expression[i] == ')' and nb > 0:\n",
    "                nb -= 1\n",
    "            i += 1\n",
    "        return - eval_expr(expression[1:i]) + eval_expr(expression[i:])\n",
    "    if expression[0] == '(':\n",
    "        i = 1\n",
    "        nb = 0\n",
    "        while i < len(expression):\n",
    "            if expression[i] == '(':\n",
    "                nb += 1\n",
    "            elif expression[i] == ')':\n",
    "                if nb == 0:\n",
    "                    return eval_expr(expression[1:i]) + eval_expr(expression[i+1:])\n",
    "                else:\n",
    "                    nb -= 1\n",
    "            i += 1\n",
    "\n",
    "    return 0\n",
    "            \n",
    "print(eval_expr('- (3 + ( 2 - 1 )) ') == -4)\n",
    "print(eval_expr('- (3 - ( 2 - 1 )) ') == -2)\n",
    "print(eval_expr('- (3 - ( 2 - 1 )) + 1 ') == -1)"
   ]
  },
  {
   "cell_type": "markdown",
   "metadata": {},
   "source": [
    "### Word search"
   ]
  },
  {
   "cell_type": "code",
   "execution_count": 50,
   "metadata": {},
   "outputs": [
    {
     "name": "stdout",
     "output_type": "stream",
     "text": [
      "True\n",
      "True\n",
      "True\n"
     ]
    }
   ],
   "source": [
    "def word_search(matrix, word):\n",
    "    i, j = 0,0\n",
    "    while i < len(matrix):\n",
    "        while j < len(matrix[i]):\n",
    "            if matrix[i][j] == word[0]:\n",
    "                # look horizontally\n",
    "                c = 0\n",
    "                found = True\n",
    "                while (j+c) < len(matrix[i]) and c < len(word) and found:\n",
    "                    if matrix[i][j + c] == word[c]:\n",
    "                        c += 1\n",
    "                    else:\n",
    "                        found = False\n",
    "                        j = j + c - 1 # skip until the end of the word\n",
    "                        break\n",
    "                if found and c == len(word):\n",
    "                    return True\n",
    "                \n",
    "                #look vertically\n",
    "                c = 0\n",
    "                found = True\n",
    "                while (i+c) < len(matrix) and c < len(word) and found:\n",
    "                    if matrix[i+c][j] == word[c]:\n",
    "                        c += 1\n",
    "                    else:\n",
    "                        found=False\n",
    "                        break\n",
    "                if found and c == len(word):\n",
    "                    return True\n",
    "                \n",
    "            j += 1\n",
    "        i += 1\n",
    "    return False\n",
    "            \n",
    "    \n",
    "  \n",
    "matrix = [\n",
    "  ['F', 'A', 'C', 'I'],\n",
    "  ['O', 'B', 'Q', 'P'],\n",
    "  ['A', 'N', 'O', 'B'],\n",
    "  ['M', 'A', 'S', 'S']]\n",
    "print(word_search(matrix, 'FOAM') == True)\n",
    "matrix = [\n",
    "  ['F', 'A']]\n",
    "print(word_search(matrix, 'FA') == True)\n",
    "matrix = [\n",
    "  ['F', 'O', 'A']]\n",
    "print(word_search(matrix, 'FA') == False)"
   ]
  },
  {
   "cell_type": "markdown",
   "metadata": {},
   "source": [
    "### Minnimum length sum"
   ]
  },
  {
   "cell_type": "code",
   "execution_count": 103,
   "metadata": {},
   "outputs": [
    {
     "name": "stdout",
     "output_type": "stream",
     "text": [
      "2\n",
      "0\n"
     ]
    }
   ],
   "source": [
    "def minSubArrayLen(array, num):\n",
    "    i = 0\n",
    "    min_length = 0\n",
    "    while i < len(array):\n",
    "        s = 0\n",
    "        j = i\n",
    "        length = 1\n",
    "        while j < len(array):\n",
    "            if min_length != 0 and length > min_length:\n",
    "                break\n",
    "            s += array[j]\n",
    "            if s == num:\n",
    "                min_length = length\n",
    "                break\n",
    "            elif s > num:\n",
    "                break\n",
    "            else:\n",
    "                j += 1\n",
    "                length += 1\n",
    "        i += 1\n",
    "    return min_length\n",
    "\n",
    "print(minSubArrayLen([2, 3, 1, 2, 4, 3], 7))\n",
    "print(minSubArrayLen([2, 3, 1, 2, 4, 2], 18))"
   ]
  },
  {
   "cell_type": "code",
   "execution_count": 99,
   "metadata": {},
   "outputs": [],
   "source": [
    "import random\n",
    "array = [random.randint(0,10000) for i in range(100000)]\n",
    "s = random.randint(256000,515000)"
   ]
  },
  {
   "cell_type": "code",
   "execution_count": 104,
   "metadata": {},
   "outputs": [
    {
     "name": "stdout",
     "output_type": "stream",
     "text": [
      "1.78 s ± 3.57 ms per loop (mean ± std. dev. of 7 runs, 1 loop each)\n"
     ]
    }
   ],
   "source": [
    "%timeit minSubArrayLen(array,s)"
   ]
  },
  {
   "cell_type": "markdown",
   "metadata": {},
   "source": [
    "### Count numbers of way"
   ]
  },
  {
   "cell_type": "code",
   "execution_count": 118,
   "metadata": {},
   "outputs": [
    {
     "name": "stdout",
     "output_type": "stream",
     "text": [
      "True\n",
      "True\n",
      "True\n",
      "True\n",
      "True\n",
      "True\n"
     ]
    }
   ],
   "source": [
    "def num_ways(n, m):\n",
    "    if n == 1:\n",
    "        return 1\n",
    "    if m == 1:\n",
    "        return 1\n",
    "    return num_ways(n-1,m) + num_ways(n,m-1)\n",
    "\n",
    "print(num_ways(1, 2) == 1)\n",
    "print(num_ways(2, 2) == 2)\n",
    "print(num_ways(2, 1) == 1)\n",
    "print(num_ways(3, 1) == 1)\n",
    "print(num_ways(3, 2) == 3)\n",
    "print(num_ways(3, 3) == 6)"
   ]
  },
  {
   "cell_type": "markdown",
   "metadata": {},
   "source": [
    "### Linked list intersection"
   ]
  },
  {
   "cell_type": "code",
   "execution_count": 126,
   "metadata": {},
   "outputs": [
    {
     "name": "stdout",
     "output_type": "stream",
     "text": [
      "3\n",
      "4\n"
     ]
    }
   ],
   "source": [
    "def intersection(a, b):\n",
    "    if a.next == None or b.next == None:\n",
    "        return None\n",
    "    n1 = a\n",
    "    n2 = b\n",
    "    while n1.val == n2.val:\n",
    "        if n1.next == None and n2.next == None:\n",
    "            return a\n",
    "        elif n1.next == None or n2.next == None:\n",
    "            break\n",
    "        n1 = n1.next\n",
    "        n2 = n2.next\n",
    "    i = intersection(a.next, b)\n",
    "    if i is not None:\n",
    "        return i\n",
    "    i = intersection(a, b.next)\n",
    "    if i is not None:\n",
    "        return i\n",
    "    i = intersection(a.next, b.next)\n",
    "    if i is not None:\n",
    "        return i\n",
    "    return None\n",
    "\n",
    "class Node(object):\n",
    "    def __init__(self, val):\n",
    "        self.val = val\n",
    "        self.next = None\n",
    "    def prettyPrint(self):\n",
    "        c = self\n",
    "        while c:\n",
    "            print(c.val)\n",
    "            c = c.next\n",
    "\n",
    "a = Node(1)\n",
    "a.next = Node(2)\n",
    "a.next.next = Node(3)\n",
    "a.next.next.next = Node(4)\n",
    "\n",
    "b = Node(6)\n",
    "b.next = a.next.next\n",
    "\n",
    "c = intersection(a, b)\n",
    "c.prettyPrint()\n",
    "# 3 4"
   ]
  },
  {
   "cell_type": "markdown",
   "metadata": {},
   "source": [
    "### Dominos falling"
   ]
  },
  {
   "cell_type": "code",
   "execution_count": 139,
   "metadata": {},
   "outputs": [
    {
     "name": "stdout",
     "output_type": "stream",
     "text": [
      "True\n",
      "True\n",
      "False\n"
     ]
    }
   ],
   "source": [
    "def pushDominoes(dominoes):\n",
    "    dominoes = list(dominoes)\n",
    "    for i in range(len(dominoes)):\n",
    "        if dominoes[i] == 'R':\n",
    "            if i == len(dominoes) - 2:\n",
    "                if dominoes[i+1] == '.':\n",
    "                    dominoes[i+1] = 'R'\n",
    "            elif i < len(dominoes) - 2:\n",
    "                if dominoes[i+1] == '.' and dominoes[i+2] != 'L':\n",
    "                    dominoes[i+1] = 'R'\n",
    "    for i in range(len(dominoes)-1,0,-1):\n",
    "        if dominoes[i] == 'L':\n",
    "            if i == 1:\n",
    "                if dominoes[0] == '.':\n",
    "                    dominoes[0] = 'L'\n",
    "            elif i > 1:\n",
    "                if dominoes[i-1] == '.' and dominoes[i-2] != 'R':\n",
    "                    dominoes[i-1] = 'L'\n",
    "    return ''.join(dominoes)\n",
    "\n",
    "s = 'R..'\n",
    "print(pushDominoes(s) == 'RRR')\n",
    "print(pushDominoes('..L') == 'LLL')\n",
    "print(pushDominoes('..R...L..R.') == '..RR.LL..RR')\n",
    "# ..RR.LL..RR"
   ]
  },
  {
   "cell_type": "code",
   "execution_count": null,
   "metadata": {},
   "outputs": [],
   "source": []
  }
 ],
 "metadata": {
  "kernelspec": {
   "display_name": "Python 3",
   "language": "python",
   "name": "python3"
  },
  "language_info": {
   "codemirror_mode": {
    "name": "ipython",
    "version": 3
   },
   "file_extension": ".py",
   "mimetype": "text/x-python",
   "name": "python",
   "nbconvert_exporter": "python",
   "pygments_lexer": "ipython3",
   "version": "3.7.6"
  }
 },
 "nbformat": 4,
 "nbformat_minor": 4
}
