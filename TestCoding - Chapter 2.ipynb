{
 "cells": [
  {
   "cell_type": "code",
   "execution_count": 66,
   "metadata": {},
   "outputs": [],
   "source": [
    "class Node:\n",
    "    def __init__(self, d):\n",
    "        self.next = None\n",
    "        self.data = d\n",
    "        \n",
    "    def append(self, d):\n",
    "        if self.next:\n",
    "            self.next.append(d)\n",
    "        else:\n",
    "            self.next = Node(d)\n",
    "            \n",
    "    def __repr__(self):\n",
    "        s = \"->\"+str(self.data)\n",
    "        if self.next:\n",
    "            s += self.next.__repr__()\n",
    "        return s\n",
    "\n",
    "class LinkedList:\n",
    "    def __init__(self):\n",
    "        self.first = None\n",
    "        \n",
    "    def append(self, d):\n",
    "        if not self.first:\n",
    "            self.first = Node(d)\n",
    "        else:\n",
    "            self.first.append(d)\n",
    "            \n",
    "    def pop(self):\n",
    "        p = None\n",
    "        n = self.first\n",
    "        while n.next is not None:\n",
    "            p = n\n",
    "            n = n.next\n",
    "        if p:\n",
    "            p.next = None\n",
    "        \n",
    "    def __str__(self):\n",
    "        s = ''\n",
    "        n = self.first\n",
    "        while n:\n",
    "            s += '->'+str(n.data)\n",
    "            n = n.next\n",
    "        return s"
   ]
  },
  {
   "cell_type": "code",
   "execution_count": 69,
   "metadata": {},
   "outputs": [],
   "source": [
    "first = Node(10)\n",
    "first.append(15)\n",
    "first.append(650)"
   ]
  },
  {
   "cell_type": "code",
   "execution_count": 70,
   "metadata": {},
   "outputs": [
    {
     "name": "stdout",
     "output_type": "stream",
     "text": [
      "->10->15->650\n"
     ]
    }
   ],
   "source": [
    "print(first)"
   ]
  },
  {
   "cell_type": "markdown",
   "metadata": {},
   "source": [
    "### Q1\n",
    "remove duplicate"
   ]
  },
  {
   "cell_type": "code",
   "execution_count": 126,
   "metadata": {},
   "outputs": [],
   "source": [
    "def remove_duplicate(n): #solution with buffer\n",
    "    buffer = [n.data]\n",
    "    prev = n\n",
    "    current = n.next\n",
    "    while current:\n",
    "        if current.data in buffer:\n",
    "            prev.next = current.next\n",
    "        else:\n",
    "            buffer.append(current.data)\n",
    "        prev = current\n",
    "        current = current.next"
   ]
  },
  {
   "cell_type": "code",
   "execution_count": 127,
   "metadata": {},
   "outputs": [
    {
     "name": "stdout",
     "output_type": "stream",
     "text": [
      "->10->15->650->15->750\n",
      "->10->15->650->750\n"
     ]
    }
   ],
   "source": [
    "first = Node(10)\n",
    "first.append(15)\n",
    "first.append(650)\n",
    "first.append(15)\n",
    "first.append(750)\n",
    "print(first)\n",
    "remove_duplicate(first)\n",
    "print(first)"
   ]
  },
  {
   "cell_type": "code",
   "execution_count": 132,
   "metadata": {},
   "outputs": [],
   "source": [
    "def remove_duplicate(n): #solution without buffer\n",
    "    # slower but no hash tab (dict)\n",
    "    current = n\n",
    "    while current:\n",
    "        d = current.data\n",
    "        checker = current\n",
    "        while checker:\n",
    "            if checker.next:\n",
    "                if checker.next.data == d:\n",
    "                    checker.next = checker.next.next\n",
    "            checker = checker.next\n",
    "        current = current.next"
   ]
  },
  {
   "cell_type": "code",
   "execution_count": 133,
   "metadata": {},
   "outputs": [
    {
     "name": "stdout",
     "output_type": "stream",
     "text": [
      "->10->15->650->15->750\n",
      "->10->15->650->750\n"
     ]
    }
   ],
   "source": [
    "first = Node(10)\n",
    "first.append(15)\n",
    "first.append(650)\n",
    "first.append(15)\n",
    "first.append(750)\n",
    "print(first)\n",
    "remove_duplicate(first)\n",
    "print(first)"
   ]
  },
  {
   "cell_type": "markdown",
   "metadata": {},
   "source": [
    "#### Q2 \n"
   ]
  },
  {
   "cell_type": "code",
   "execution_count": null,
   "metadata": {},
   "outputs": [],
   "source": []
  },
  {
   "cell_type": "code",
   "execution_count": null,
   "metadata": {},
   "outputs": [],
   "source": []
  },
  {
   "cell_type": "code",
   "execution_count": null,
   "metadata": {},
   "outputs": [],
   "source": []
  },
  {
   "cell_type": "code",
   "execution_count": null,
   "metadata": {},
   "outputs": [],
   "source": []
  },
  {
   "cell_type": "code",
   "execution_count": null,
   "metadata": {},
   "outputs": [],
   "source": []
  },
  {
   "cell_type": "code",
   "execution_count": null,
   "metadata": {},
   "outputs": [],
   "source": []
  },
  {
   "cell_type": "code",
   "execution_count": null,
   "metadata": {},
   "outputs": [],
   "source": []
  },
  {
   "cell_type": "code",
   "execution_count": null,
   "metadata": {},
   "outputs": [],
   "source": []
  },
  {
   "cell_type": "code",
   "execution_count": null,
   "metadata": {},
   "outputs": [],
   "source": []
  },
  {
   "cell_type": "code",
   "execution_count": null,
   "metadata": {},
   "outputs": [],
   "source": []
  },
  {
   "cell_type": "code",
   "execution_count": null,
   "metadata": {},
   "outputs": [],
   "source": []
  },
  {
   "cell_type": "code",
   "execution_count": null,
   "metadata": {},
   "outputs": [],
   "source": []
  },
  {
   "cell_type": "code",
   "execution_count": null,
   "metadata": {},
   "outputs": [],
   "source": []
  },
  {
   "cell_type": "code",
   "execution_count": null,
   "metadata": {},
   "outputs": [],
   "source": []
  },
  {
   "cell_type": "code",
   "execution_count": null,
   "metadata": {},
   "outputs": [],
   "source": []
  },
  {
   "cell_type": "code",
   "execution_count": null,
   "metadata": {},
   "outputs": [],
   "source": []
  },
  {
   "cell_type": "code",
   "execution_count": null,
   "metadata": {},
   "outputs": [],
   "source": []
  },
  {
   "cell_type": "code",
   "execution_count": null,
   "metadata": {},
   "outputs": [],
   "source": []
  }
 ],
 "metadata": {
  "kernelspec": {
   "display_name": "Python 3",
   "language": "python",
   "name": "python3"
  },
  "language_info": {
   "codemirror_mode": {
    "name": "ipython",
    "version": 3
   },
   "file_extension": ".py",
   "mimetype": "text/x-python",
   "name": "python",
   "nbconvert_exporter": "python",
   "pygments_lexer": "ipython3",
   "version": "3.7.6"
  }
 },
 "nbformat": 4,
 "nbformat_minor": 4
}
